{
 "cells": [
  {
   "cell_type": "code",
   "execution_count": 22,
   "id": "ce14eb1a",
   "metadata": {},
   "outputs": [],
   "source": [
    "import nltk\n",
    "import json\n",
    "import numpy as np\n",
    "import heapq"
   ]
  },
  {
   "cell_type": "code",
   "execution_count": 3,
   "id": "e89399bf",
   "metadata": {},
   "outputs": [],
   "source": [
    "news = []\n",
    "with open('news.json', 'r') as file:\n",
    "    for line in file:\n",
    "        news.append(json.loads(line))"
   ]
  },
  {
   "cell_type": "code",
   "execution_count": 4,
   "id": "85937519",
   "metadata": {},
   "outputs": [
    {
     "name": "stdout",
     "output_type": "stream",
     "text": [
      "No of news headlines: 209527\n"
     ]
    }
   ],
   "source": [
    "print(f\"No of news headlines: {len(news)}\")"
   ]
  },
  {
   "cell_type": "code",
   "execution_count": 40,
   "id": "3f28a16f",
   "metadata": {},
   "outputs": [
    {
     "name": "stdout",
     "output_type": "stream",
     "text": [
      "Over 4 Million Americans Roll Up Sleeves For Omicron-Targeted COVID Boosters. Health experts said it is too early to predict whether demand would match up with the 171 million doses of the new boosters the U.S. ordered for the fall.\n"
     ]
    }
   ],
   "source": [
    "headlines = []\n",
    "for new in news:\n",
    "    temp = new['headline'] + \". \" + new['short_description']\n",
    "    headlines.append(temp)\n",
    "print(headlines[0])"
   ]
  },
  {
   "cell_type": "markdown",
   "id": "9e941f1b",
   "metadata": {},
   "source": [
    "### Preprocessing"
   ]
  },
  {
   "cell_type": "code",
   "execution_count": 12,
   "id": "873246b4",
   "metadata": {},
   "outputs": [
    {
     "name": "stderr",
     "output_type": "stream",
     "text": [
      "[nltk_data] Downloading package wordnet to\n",
      "[nltk_data]     /Users/kabirsprakash/nltk_data...\n",
      "[nltk_data]   Package wordnet is already up-to-date!\n"
     ]
    }
   ],
   "source": [
    "from nltk.stem import WordNetLemmatizer\n",
    "nltk.download('wordnet')\n",
    "from nltk.corpus import wordnet"
   ]
  },
  {
   "cell_type": "code",
   "execution_count": 46,
   "id": "bc22616d",
   "metadata": {},
   "outputs": [],
   "source": [
    "def get_lemm_pos(tag):\n",
    "    if tag.startswith('J'):\n",
    "        return wordnet.ADJ\n",
    "    elif tag.startswith('V'):\n",
    "        return wordnet.VERB\n",
    "    elif tag.startswith('R'):\n",
    "        return wordnet.ADV\n",
    "    else:\n",
    "        return wordnet.NOUN\n",
    "    \n",
    "def preprocess_sentence(sentence):\n",
    "    words = nltk.word_tokenize(sentence)\n",
    "    pos_tags = nltk.pos_tag(words)\n",
    "    lemmatised_words = []\n",
    "    for word, tag in pos_tags:\n",
    "        lemm_tag = get_lemm_pos(tag)\n",
    "        lemmatised_words.append(lemmatiser.lemmatize(word.lower(), lemm_tag))\n",
    "    return lemmatised_words\n",
    "\n",
    "lemmatiser = WordNetLemmatizer()\n",
    "pre_headlines = []\n",
    "for headline in headlines:\n",
    "    Words = preprocess_sentence(headline)\n",
    "    pre_headlines.append(Words)"
   ]
  },
  {
   "cell_type": "code",
   "execution_count": 48,
   "id": "99ec158f",
   "metadata": {},
   "outputs": [
    {
     "name": "stdout",
     "output_type": "stream",
     "text": [
      "American Airlines Flyer Charged, Banned For Life After Punching Flight Attendant On Video. He was subdued by passengers and crew when he fled to the back of the aircraft after the confrontation, according to the U.S. attorney's office in Los Angeles.\n",
      "['american', 'airline', 'flyer', 'charged', ',', 'banned', 'for', 'life', 'after', 'punch', 'flight', 'attendant', 'on', 'video', '.', 'he', 'be', 'subdue', 'by', 'passenger', 'and', 'crew', 'when', 'he', 'flee', 'to', 'the', 'back', 'of', 'the', 'aircraft', 'after', 'the', 'confrontation', ',', 'accord', 'to', 'the', 'u.s.', 'attorney', \"'s\", 'office', 'in', 'los', 'angeles', '.']\n"
     ]
    }
   ],
   "source": [
    "print(headlines[1])\n",
    "print(pre_headlines[1])"
   ]
  },
  {
   "cell_type": "markdown",
   "id": "4c85ca8c",
   "metadata": {},
   "source": [
    "### Embedding headlines into vectors"
   ]
  },
  {
   "cell_type": "code",
   "execution_count": 49,
   "id": "2d23a5f8",
   "metadata": {},
   "outputs": [],
   "source": [
    "from gensim.models import Word2Vec\n",
    "\n",
    "model = Word2Vec(pre_headlines,vector_size=100,min_count=1,window=5,workers=4)"
   ]
  },
  {
   "cell_type": "code",
   "execution_count": 20,
   "id": "942ce664",
   "metadata": {},
   "outputs": [
    {
     "name": "stdout",
     "output_type": "stream",
     "text": [
      "[-0.33915922 -0.13276395  1.0542692  -0.34620583  0.5063199  -1.5144683\n",
      "  0.8800564  -1.0230283  -1.2816181   0.6434435  -0.5533166   0.1745081\n",
      " -0.7408204   2.4152102   0.42065004 -1.5542356   0.06946942 -1.2881159\n",
      " -1.008451    0.9541815   2.017711    0.44355062 -0.7874748   0.4828279\n",
      "  0.626906   -0.16335349 -0.82482284  1.446604   -1.6163267  -2.7904549\n",
      "  1.2714406  -0.19972034 -0.74721265 -0.47680017  0.3045603  -0.29945716\n",
      "  1.9881146  -1.8192551  -0.38309824 -0.98787725 -0.46971914 -0.13682006\n",
      " -1.1677041   0.8814744   0.3259528  -0.28379503  0.5834679  -0.6184034\n",
      " -0.3693009   0.38733783 -0.49844733  0.3887702   0.19816263 -0.26782888\n",
      " -2.3215046   1.6271516   0.72744    -1.220142   -2.848284   -0.2339624\n",
      " -0.16797523 -1.5536301  -0.21997717 -0.42705718 -1.2278932   0.02035571\n",
      " -1.1293062   1.7771329   0.11400793 -0.36091107 -1.0919218   1.3435435\n",
      " -0.9473884  -1.6329008  -0.41245696  0.6570451   0.36958787 -0.9710406\n",
      "  1.5779631  -0.21171144 -0.910774    1.7714694   0.3899484   0.2077632\n",
      " -0.8752007   0.86360955  1.9072391   1.1868979   3.3012652  -0.676249\n",
      " -1.4976845   0.6805782   0.21624412 -0.93738186  1.0207249   1.0377284\n",
      " -1.165787   -0.7165184   0.9550251   1.7171171 ]\n"
     ]
    }
   ],
   "source": [
    "print(model.wv[\"american\"])"
   ]
  },
  {
   "cell_type": "markdown",
   "id": "edb72cbc",
   "metadata": {},
   "source": [
    "Finding closest headlines match from dataset based on cosine similarity of vectors"
   ]
  },
  {
   "cell_type": "code",
   "execution_count": 58,
   "id": "ec8622be",
   "metadata": {},
   "outputs": [],
   "source": [
    "from numpy.linalg import norm\n",
    "\n",
    "def cosine_similarity(lst1,lst2):\n",
    "    return np.dot(lst1,lst2) / (norm(lst1)*norm(lst2))\n",
    "\n",
    "def avgWord2Vec(sen):\n",
    "    vectors = []\n",
    "    for word in sen:\n",
    "        if word in model.wv:\n",
    "            vectors.append(model.wv[word])\n",
    "    if len(vectors) == 0:\n",
    "        return np.zeros(model.vector_size)\n",
    "    return np.mean(vectors,axis=0)\n",
    "\n",
    "def closest_sentences(sen):\n",
    "    p = preprocess_sentence(sen)\n",
    "    v_in = avgWord2Vec(p)\n",
    "    pq = []\n",
    "    heapq.heapify(pq)\n",
    "    for i in range(len(pre_headlines)):\n",
    "        v = avgWord2Vec(pre_headlines[i])\n",
    "        dist = cosine_similarity(v_in,v)\n",
    "        heapq.heappush(pq,(dist,i))\n",
    "        if len(pq) > 5:\n",
    "            heapq.heappop(pq)\n",
    "    res = []\n",
    "    for _,idx in pq:\n",
    "        res.append((news[idx]['headline'],news[idx]['short_description']))\n",
    "    return res"
   ]
  },
  {
   "cell_type": "code",
   "execution_count": 57,
   "id": "70f977f7",
   "metadata": {},
   "outputs": [
    {
     "name": "stdout",
     "output_type": "stream",
     "text": [
      "Closest match of: Over 4 Million Americans Roll Up Sleeves For Omicron-Targeted COVID Boosters. Health experts said it is too early to predict whether demand would match up with the 171 million doses of the new boosters the U.S. ordered for the fall.\n",
      "[\"IMF May Be Right in Suggesting Countries Raise Fuel Taxes. It's tough to find any drivers who relish digging into their wallets to fill up at the pump. According to the International Monetary Fund, though, not only should fuel taxes jump by more than 50 percent, the increase should have Canadians whistling a happy tune. Now, here's the real kicker: The IMF is right.\", \"Computer Science in K-12 Classrooms Needs to Catch Up. It's estimated that in the next decade the number of computer science jobs in the U.S. will outnumber qualified people by 1 million. That's 1 million jobs for the taking that Americans will miss out on because of inadequate skill sets.\", \"Sunday Roundup. With Friday's numbers showing the addition of 217,000 jobs, the U.S. finally restored the 9 million jobs lost in the recession -- five years after it supposedly ended. But we can keep the champagne on the shelf: we still need an estimated 7 million more jobs to keep up with population growth; if we count those who've dropped out of the labor force, our current unemployment rate would actually be 9.7 percent; and, adjusting for inflation, hourly wages are actually lower now than at the end of the recession. So we may have recovered 9 million jobs, but we seem to have lost all sense of urgency about saving the middle class.  Meanwhile, the swap of Sgt. Bowe Bergdahl for five detainees held at Guantanamo was as messy and ambiguous as the overlong war it sprung out of.\", 'Over 4 Million Americans Roll Up Sleeves For Omicron-Targeted COVID Boosters. Health experts said it is too early to predict whether demand would match up with the 171 million doses of the new boosters the U.S. ordered for the fall.', \"The Many Faces of Abdel Fattah al-Sisi. Coming just weeks before an international donors conference in which Gulf States are expected to cough up billions of dollars more, the alleged Sisi leaks are timely. They show him diverting money meant for the reconstruction of the state into the Egyptian Army's coffers. And they beg the question: Where has all this money gone?\"]\n"
     ]
    }
   ],
   "source": [
    "# checking accuracy for one of sentence from dataset\n",
    "print(f\"Closest match of: {headlines[0]}\")\n",
    "print(closest_sentences(\" \".join(pre_headlines[0])))"
   ]
  },
  {
   "cell_type": "code",
   "execution_count": 61,
   "id": "5e300007",
   "metadata": {},
   "outputs": [
    {
     "name": "stdout",
     "output_type": "stream",
     "text": [
      "Input sentence: Atrocities, alleged war crimes and civilians caught in the crossfire of Africa's largest war\n",
      "Top 5 closest matches from dataset :-\n",
      "1. Headline - Syrian Army In 'Final Stages' Of Aleppo Offensive\n",
      "---> Description - It was the country's largest city before the war.\n",
      "2. Headline - Iraqi Military Says It's Taken Most Of ISIS Stronghold In Country's Northwest\n",
      "---> Description - Retaking Tal Afar was the latest objective in the U.S.-backed war on ISIS following the recapture in July of Mosul.\n",
      "3. Headline - Al Qaeda Militants Seize Part Of Yemen's Main Port City Of Aden\n",
      "---> Description - The war in Yemen has led to dangerous instability.\n",
      "4. Headline - Bangladesh Executes 2 Opposition Leaders For War Crimes\n",
      "---> Description - The pair were convicted of war crimes committed during the country's 1971 war of independence.\n",
      "5. Headline - Both Sides In The Battle Of Aleppo Committed War Crimes: UN\n",
      "---> Description - The report also revealed Syrian government jets deliberately bombed a humanitarian convoy.\n"
     ]
    }
   ],
   "source": [
    "input = \"Atrocities, alleged war crimes and civilians caught in the crossfire of Africa's largest war\"\n",
    "print(f\"Input sentence: {input}\")\n",
    "print(\"Top 5 closest matches from dataset :-\")\n",
    "matches = closest_sentences(input)\n",
    "num = 1\n",
    "for sen in matches:\n",
    "    print(f\"{num}. Headline - {sen[0]}\")\n",
    "    print(f\"---> Description - {sen[1]}\")\n",
    "    num += 1"
   ]
  }
 ],
 "metadata": {
  "kernelspec": {
   "display_name": "Python 3",
   "language": "python",
   "name": "python3"
  },
  "language_info": {
   "codemirror_mode": {
    "name": "ipython",
    "version": 3
   },
   "file_extension": ".py",
   "mimetype": "text/x-python",
   "name": "python",
   "nbconvert_exporter": "python",
   "pygments_lexer": "ipython3",
   "version": "3.12.0"
  }
 },
 "nbformat": 4,
 "nbformat_minor": 5
}
